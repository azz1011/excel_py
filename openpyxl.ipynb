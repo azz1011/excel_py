{
 "cells": [
  {
   "cell_type": "code",
   "execution_count": 2,
   "metadata": {},
   "outputs": [
    {
     "name": "stdout",
     "output_type": "stream",
     "text": [
      "'2022-04-26 21:22:27:295\n"
     ]
    }
   ],
   "source": [
    "import openpyxl\n",
    "path = \"C:/Users/LGIT/Desktop/test P\\DB-B\\C3152\\C3152_HM_Error.xlsx\"\n",
    "wb_obj = openpyxl.load_workbook(path)\n",
    "sheet_obj = wb_obj.active\n",
    "cell_obj = sheet_obj.cell(row =3, column =1)\n",
    "print(cell_obj.value)\n",
    "# read data from spreadsheet\n"
   ]
  },
  {
   "cell_type": "code",
   "execution_count": 1,
   "metadata": {},
   "outputs": [
    {
     "name": "stdout",
     "output_type": "stream",
     "text": [
      "Total Row:  62\n",
      "Total Column:  12\n",
      "\n",
      " Value of first row\n",
      "time time time time time time time time time time time time time time time time time time time time time time time time time time time time time time time time time time time time time time time time time time time time time time time time time time time time time time time time time time time time time time time time time time time time time time time time time time time time time time time time time time time time time time time time time time time time time time time time time time time time time time time time time time time time time time time time time time time time time time time time time time time time time time time time time time time time time time time time time time time time time time time time time time time time time time time time time time time time time time time time time time time time time time time time time time time time time time time time time time time time time time time time time time time time time time time time time time time time time time time time time time time time time time time time time time time time time time time time time time time time time time time time time time time time time time time time time time time time time time time time time time time time time time time time time time time time time time time time time time time time time time time time time time time time time time time time time time time time time time time time time time time time time time time time time time time time time time time time time time time time time time time time time time time time time time time time time time time time time time time time time time time time time time time time time time time time time time time time time time time time time time time time time time time time time time time time time time time time time time time time time time time time time time time time time time time time time time time time time time time time time time time time time time time time time time time time time time time time time time time time time time time time time time time time time time time time time time time time time time time time time time time time time time time time time time time time time time time time time time time time time time time time time time time time time time time time time time time time time time time time time time time time time time time time time time time time time time time time time time time time time time time time time time time time time time time time time time time time time time time time time time time time time time time time time time time time time time time time time time time time time time time time time time time time time time time time time time time time time time time time time time time time time time time time time time time time time time time time time time time time time time time time time time time time time time time time time time time time time time time time time time time time time time time time time time time time time time time time time time time time time time time time time time time time time time time time time time time time time time time time time time time time time time time time time time time time time time time time time time time time time time time time time time time time time time time time time time time time time time time time time time time time time time time time time time time time time time time time time time time time time time time time time time time time time time time time time time time time time time time time time time time time time time time time time time time time time time time time time time time time time time time time time time time time time time time time time time time time time time time time time time time time "
     ]
    }
   ],
   "source": [
    "import openpyxl\n",
    "path = \"C:/Users/LGIT/Desktop/test P\\DB-B\\C3152\\C3152_HM_Error.xlsx\"\n",
    "wb_obj = openpyxl.load_workbook(path)\n",
    "sheet_obj = wb_obj.active\n",
    "row = sheet_obj.max_row\n",
    "column = sheet_obj.max_column\n",
    "\n",
    "print(\"Total Row: \", row)\n",
    "print(\"Total Column: \", column)\n",
    "\n",
    "# print(\"\\n Value of first column\")\n",
    "# for i in range (1, row+1):\n",
    "#     cell_obj = sheet_obj.cell(row=i, column=1)\n",
    "#     print(cell_obj.value)\n",
    "\n",
    "print(\"\\n Value of first row\")\n",
    "for i in range (1, row+1):\n",
    "    for j in range (1, column+1):\n",
    "        cell_obj = sheet_obj.cell(row=1, column=1)\n",
    "        print(cell_obj.value, end=\" \")\n",
    "\n",
    "#  input multiple line \n"
   ]
  },
  {
   "cell_type": "code",
   "execution_count": 9,
   "metadata": {},
   "outputs": [
    {
     "data": {
      "text/plain": [
       "<function TextIOWrapper.close()>"
      ]
     },
     "execution_count": 9,
     "metadata": {},
     "output_type": "execute_result"
    }
   ],
   "source": [
    "import openpyxl\n",
    "import os.path\n",
    "wb = openpyxl.Workbook()\n",
    "path = \"D:/Code/Excel/\"\n",
    "name = os.path.join(path, \"test.xlsx\")\n",
    "file = open(name, \"w\")\n",
    "file.write(name)\n",
    "file.close\n",
    "# wb.save(\"test.xlsx\")\n",
    "\n"
   ]
  },
  {
   "cell_type": "code",
   "execution_count": 6,
   "metadata": {},
   "outputs": [],
   "source": [
    "# create and add data to excel\n",
    "import openpyxl\n",
    "wb = openpyxl.Workbook()\n",
    "sheet = wb.active\n",
    "\n",
    "# c1 = sheet.cell(row = 1, column = 1)\n",
    "# c1.value = \"Hello\"\n",
    "\n",
    "# c2 = sheet['B2']\n",
    "# c2.value = \"abc\"\n",
    "\n",
    "sheet['A3'] = 200\n",
    "sheet['A4'] = 300\n",
    "sheet['A5'] = 900\n",
    "sheet['A6'] = '= SUM(A3:A5)' \n",
    "wb.save(\"sample1.xlsx\")"
   ]
  },
  {
   "cell_type": "code",
   "execution_count": 7,
   "metadata": {},
   "outputs": [],
   "source": [
    "# add \n",
    "import openpyxl\n",
    "wb = openpyxl.load_workbook(\"sample1.xlsx\")\n",
    "sheet = wb.active\n",
    "data = ((1,2,3), (4,5,6)) # tuple (immutable)\n",
    "for row in data: \n",
    "    sheet. append(row)\n",
    "\n",
    "wb.save('sample1.xlsx')\n"
   ]
  },
  {
   "cell_type": "code",
   "execution_count": 12,
   "metadata": {},
   "outputs": [],
   "source": [
    "import openpyxl\n",
    "from openpyxl.styles import Font\n",
    "from openpyxl.chart import BarChart, Reference\n",
    "wb = openpyxl.load_workbook(\"sample1.xlsx\")\n",
    "sheet = wb.active\n",
    "sheet.merge_cells('A7:B7')\n",
    "sheet['A7'].font = Font(size=30, bold=True,name='Times New Roman' )\n",
    "wb.save('sample1.xlsx')"
   ]
  },
  {
   "cell_type": "code",
   "execution_count": 16,
   "metadata": {},
   "outputs": [],
   "source": [
    "import openpyxl\n",
    "from openpyxl.chart import BarChart, Reference\n",
    "wb = openpyxl.load_workbook('sample1.xlsx')\n",
    "sheet = wb.active\n",
    "for i in range(5):\n",
    "    sheet.append([i])\n",
    "values = Reference(sheet, min_col=1, max_col=5, min_row=1, max_row=5)\n",
    "chart = BarChart()\n",
    "chart.add_data(values)\n",
    "chart.title = \"BAR-CHART\"\n",
    "sheet.add_chart(chart, \"G3\")\n",
    "wb.save('sample1.xlsx')"
   ]
  },
  {
   "cell_type": "code",
   "execution_count": 3,
   "metadata": {},
   "outputs": [],
   "source": [
    "from openpyxl import Workbook\n",
    "from openpyxl.chart import Reference, LineChart\n",
    "wb = Workbook()\n",
    "ws = wb.active\n",
    "wb.title = 'chart'\n",
    "\n",
    "rows = [('month', 'Apple sales', 'Banana sales'),\n",
    "('Jan', 100, 200),\n",
    "('Feb', 230, 111),\n",
    "('Mar', 121, 131),\n",
    "('Apr', 10, 22),\n",
    "('May', 232, 222),\n",
    "('Jun', 231, 222),]\n",
    "values = Reference(ws, min_col= 2, min_row=1, max_col = 3, max_row = 7)\n",
    "x_values = Reference(ws, range_string=\"chart!A2:A7\")\n",
    "for row in rows:\n",
    "    ws.append(row)\n",
    "wb.save('create_table.xlsx')"
   ]
  },
  {
   "cell_type": "code",
   "execution_count": null,
   "metadata": {},
   "outputs": [],
   "source": [
    "from openpyxl.chart import Reference, LineChart\n",
    "values = Reference(ws, min)"
   ]
  }
 ],
 "metadata": {
  "kernelspec": {
   "display_name": "Python 3.10.4 64-bit",
   "language": "python",
   "name": "python3"
  },
  "language_info": {
   "codemirror_mode": {
    "name": "ipython",
    "version": 3
   },
   "file_extension": ".py",
   "mimetype": "text/x-python",
   "name": "python",
   "nbconvert_exporter": "python",
   "pygments_lexer": "ipython3",
   "version": "3.10.4"
  },
  "orig_nbformat": 4,
  "vscode": {
   "interpreter": {
    "hash": "97ddc28bdcd24b84b8120ad7968d2264aee9efa803f5ba6fb0da4ee24ee25b90"
   }
  }
 },
 "nbformat": 4,
 "nbformat_minor": 2
}
