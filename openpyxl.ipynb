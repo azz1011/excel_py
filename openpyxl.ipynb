{
 "cells": [
  {
   "cell_type": "code",
   "execution_count": 2,
   "metadata": {},
   "outputs": [
    {
     "name": "stdout",
     "output_type": "stream",
     "text": [
      "'2022-04-26 21:22:27:295\n"
     ]
    }
   ],
   "source": [
    "import openpyxl\n",
    "path = \"C:/Users/LGIT/Desktop/test P\\DB-B\\C3152\\C3152_HM_Error.xlsx\"\n",
    "wb_obj = openpyxl.load_workbook(path)\n",
    "sheet_obj = wb_obj.active\n",
    "cell_obj = sheet_obj.cell(row =3, column =1)\n",
    "print(cell_obj.value)\n",
    "# read data from spreadsheet\n"
   ]
  },
  {
   "cell_type": "code",
   "execution_count": 4,
   "metadata": {},
   "outputs": [
    {
     "name": "stdout",
     "output_type": "stream",
     "text": [
      "Total Row:  62\n",
      "Total Column:  12\n",
      "\n",
      " Value of first row\n",
      "time station site moduleConfig SWversion lotNum sensorID barcode Event Error Code event Action Time '2022-04-26 21:22:10:299 VCMCT7021H01 None R21A 1.3.961 VTY841AN48AL None GCF21822QH81985YE ERROR 82 Barcode Reading Fail 4.115 '2022-04-26 21:22:27:295 VCMCT7021H01 None R21A 1.3.961 VTY841AN48AL None GCF21822QH81985YE ERROR 82 Barcode Reading Fail 3.286 '2022-04-26 21:31:05:451 VCMCT7021H01 None R21A 1.3.961 VTY841AN48AL None GCF21822QBJ1985YN ERROR 69 Picker#2 Module Check Error 48.788 '2022-04-26 21:34:13:503 VCMCT7021H01 None R21A 1.3.961 VTY841AN48AL None GCF21822QBF1985YR ERROR 177 FPCB Barcode Reading Fail 4.781 '2022-04-26 21:34:43:894 VCMCT7021H01 None R21A 1.3.961 VTY841AN48AL None GCF21822QBF1985YR ERROR 177 FPCB Barcode Reading Fail 0.823 '2022-04-26 23:23:30:948 VCMCT7021H01 None R21A 1.3.961 VTY841AN48AM None GCF21821PX71985YB ERROR 45 There are two Tray Empty the position! Remove one Tray 4.866 '2022-04-26 23:36:48:358 VCMCT7021H01 None R21A 1.3.961 VTY841AN48AM None GCF21821PYC1985Y3 ERROR 69 Picker#2 Module Check Error 14.073 '2022-04-27 01:58:54:846 VCMCT7021H01 None R21A 1.3.961 VTY841AN48AN None GCF2182374L1985YM ERROR 177 FPCB Barcode Reading Fail 10.441 '2022-04-27 02:12:52:212 VCMCT7021H01 None R21A 1.3.961 VTY841AN48AN None GCF218237551985YZ ERROR 101 검사기 MT CALL Error = [TASK_Collimator] SPHERE DELTA(GAIN_B2) Error 20.28 '2022-04-27 02:17:57:523 VCMCT7021H01 None R21A 1.3.961 VTY841AN48AN None GCF2182375V1985Y9 ERROR 45 There are two Tray Empty the position! Remove one Tray 2.755 '2022-04-27 02:26:38:492 VCMCT7021H01 None R21A 1.3.961 VTY841AN48AN None GCF2182370V1985YQ ERROR 69 Picker#2 Module Check Error 113.718 '2022-04-27 02:35:26:776 VCMCT7021H01 None R21A 1.3.961 VTY841AN48AN None GCF2182370T1985YS ERROR 69 Picker#2 Module Check Error 40.567 '2022-04-27 02:58:10:116 VCMCT7021H01 None R21A 1.3.961 VTY841AN48A6 None GCF21822T3F1985YC ERROR 75 Have Not Fail Tray 97.748 '2022-04-27 03:51:25:015 VCMCT7021H01 None R21A 1.3.961 VTY841AN48A6 None GCF21822T4W1985YU ERROR 82 Barcode Reading Fail 18.625 '2022-04-27 03:51:54:011 VCMCT7021H01 None R21A 1.3.961 VTY841AN48A6 None GCF21822T4W1985YU ERROR 8 Door Open Error 1.11 '2022-04-27 03:51:57:632 VCMCT7021H01 None R21A 1.3.961 VTY841AN48A6 None GCF21822T4W1985YU ERROR 82 Barcode Reading Fail 0.698 '2022-04-27 03:52:22:016 VCMCT7021H01 None R21A 1.3.961 VTY841AN48A6 None GCF21822T4W1985YU ERROR 82 Barcode Reading Fail 0.888 '2022-04-27 04:40:23:479 VCMCT7021H01 None R21A 1.3.961 VTY841AN48A6 None GCF21822T2B1985YK ERROR 101 검사기 MT CALL Error = [TASK_Collimator] SPHERE DELTA(GAIN_B2) Error 91.968 '2022-04-27 04:42:20:697 VCMCT7021H01 None R21A 1.3.961 VTY841AN48A6 None GCF21822T2B1985YK ERROR 53 Machine LoadingReqest TimeOut 4.225 '2022-04-27 04:53:58:529 VCMCT7021H01 None R21A 1.3.961 VTY841AN48A6 None GCF21822T2M1985Y9 ERROR 45 There are two Tray Empty the position! Remove one Tray 26.228 '2022-04-27 05:08:28:830 VCMCT7021H01 None R21A 1.3.961 VTY841AN48A6 None GCF21822T3X1985YW ERROR 69 Picker#2 Module Check Error 5.345 '2022-04-27 06:34:16:768 VCMCT7021H01 None R21A 1.3.961 VTY841AN48AK None GCF218227K51985YU ERROR 53 Machine LoadingReqest TimeOut 109.875 '2022-04-27 08:20:44:147 VCMCT7021H01 None R21A 1.3.961 VTY841AN48AB None GCF2181FF4M1985YB ERROR 101 검사기 MT CALL Error = [TASK_Collimator] SPHERE DELTA(GAIN_B1) Error 6.899 '2022-04-27 08:26:04:002 VCMCT7021H01 None R21A 1.3.961 VTY841AN48AB None GCF2181FF3T1985Y8 ERROR 82 Barcode Reading Fail 18.502 '2022-04-27 08:56:46:329 VCMCT7021H01 None R21A 1.3.961 VTY841AN48AB None GCF2181FF2W1985Y8 ERROR 100 검사기 에러(Tester Alarm) =  [Collimator][연속1] Sphere EM Coupling : Machine Trouble/Stop Machine/Engineer Call  19.125 '2022-04-27 09:03:51:436 VCMCT7021H01 None R21A 1.3.961 VTY841AN48AB None GCF2181FF2A1985YU ERROR 69 Picker#2 Module Check Error 20.835 '2022-04-27 09:08:39:808 VCMCT7021H01 None R21A 1.3.961 VTY841AN48AB None GCF2181FF1M1985YL ERROR 69 Picker#2 Module Check Error 5.424 '2022-04-27 09:48:21:117 VCMCT7021H01 None R21A 1.3.961 VTY841AN48AF None GCF21822YCL1985Y9 ERROR 69 Picker#2 Module Check Error 9.275 '2022-04-27 10:03:19:658 VCMCT7021H01 None R21A 1.3.961 VTY841AN48AF None GCF21822YDH1985Y9 ERROR 69 Picker#2 Module Check Error 8.954 '2022-04-27 11:31:11:978 VCMCT7021H01 None R21A 1.3.961 VTY841AN48AF None GCF21822YC41985YR ERROR 69 Picker#2 Module Check Error 19.159 '2022-04-27 11:57:18:551 VCMCT7021H01 None R21A 1.3.961 VTY841AN48AJ None GCF218233QQ1985YV ERROR 177 FPCB Barcode Reading Fail 57.585 '2022-04-27 12:18:07:655 VCMCT7021H01 None R21A 1.3.961 VTY841AN48AJ None GCF218233RH1985YZ ERROR 177 FPCB Barcode Reading Fail 388.038 '2022-04-27 12:42:04:238 VCMCT7021H01 None R21A 1.3.961 VTY841AN48AJ None GCF218233TF1985YV ERROR 121 Socket#2 Module Seat Miss 118.801 '2022-04-27 12:48:57:382 VCMCT7021H01 None R21A 1.3.961 VTY841AN48AJ None GCF218233NS1985YZ ERROR 101 검사기 MT CALL Error = [TASK_Collimator] SPHERE DELTA(GAIN_B1) Error 12.964 '2022-04-27 13:21:09:543 VCMCT7021H01 None R21A 1.3.961 VTY841AN48AJ None GCF218233QC1985Y7 ERROR 69 Picker#2 Module Check Error 399.922 '2022-04-27 14:09:18:004 VCMCT7021H01 None R21A 1.3.961 VTY841AN48AQ None GCF21821KRD1985YT ERROR 82 Barcode Reading Fail 4.19 '2022-04-27 14:13:12:591 VCMCT7021H01 None R21A 1.3.961 VTY841AN48AQ None GCF21821KS01985Y3 ERROR 69 Picker#2 Module Check Error 6.274 '2022-04-27 15:01:08:164 VCMCT7021H01 None R21A 1.3.961 VTY841AN48AO None GCF218215R91985YB ERROR 177 FPCB Barcode Reading Fail 4.604 '2022-04-27 15:06:28:264 VCMCT7021H01 None R21A 1.3.961 VTY841AN48AO None GCF218215S01985YH ERROR 101 검사기 MT CALL Error = [TASK_Collimator] SPHERE DELTA(GAIN_B1) Error 16.083 '2022-04-27 15:08:37:586 VCMCT7021H01 None R21A 1.3.961 VTY841AN48AO None GCF218215S01985YH ERROR 53 Machine LoadingReqest TimeOut 2.184 '2022-04-27 15:12:51:900 VCMCT7021H01 None R21A 1.3.961 VTY841AN48AO None GCF218215RE1985Y6 ERROR 177 FPCB Barcode Reading Fail 224.962 '2022-04-27 15:16:59:886 VCMCT7021H01 None R21A 1.3.961 VTY841AN48AO None GCF218215RE1985Y6 ERROR 177 FPCB Barcode Reading Fail 1.828 '2022-04-27 16:23:19:241 VCMCT7021H01 None R21A 1.3.961 VTY841AN48AO None GCF218215V21985Y6 ERROR 69 Picker#2 Module Check Error 72.202 '2022-04-27 16:29:34:983 VCMCT7021H01 None R21A 1.3.961 VTY841AN48AO None GCF218215UW1985YF ERROR 45 There are two Tray Empty the position! Remove one Tray 43.571 '2022-04-27 16:30:50:730 VCMCT7021H01 None R21A 1.3.961 VTY841AN48AO None GCF218215UW1985YF ERROR 69 Picker#2 Module Check Error 1.073 '2022-04-27 17:00:59:412 VCMCT7021H01 None R21A 1.3.961 VTY841AN48AG None GCF21820RL91985Y9 ERROR 177 FPCB Barcode Reading Fail 9.648 '2022-04-27 17:07:14:187 VCMCT7021H01 None R21A 1.3.961 VTY841AN48AG None GCF21820RLX1985YM ERROR 177 FPCB Barcode Reading Fail 98.114 '2022-04-27 17:30:39:506 VCMCT7021H01 None R21A 1.3.961 VTY841AN48AG None GCF21820RNB1985Y1 ERROR 45 There are two Tray Empty the position! Remove one Tray 84.908 '2022-04-27 18:35:29:253 VCMCT7021H01 None R21A 1.3.961 VTY841AN48AG None GCF21820RRM1985YG ERROR 69 Picker#2 Module Check Error 38.903 '2022-04-27 18:38:58:741 VCMCT7021H01 None R21A 1.3.961 VTY841AN48AG None GCF21820RRU1985Y9 ERROR 177 FPCB Barcode Reading Fail 106.144 '2022-04-27 19:02:28:697 VCMCT7021H01 None R21A 1.3.961 VTY841AN48AD None GCF21821CBU1985YT ERROR 53 Machine LoadingReqest TimeOut 2.351 '2022-04-27 19:08:18:802 VCMCT7021H01 None R21A 1.3.961 VTY841AN48AD None GCF21821CBH1985Y4 ERROR 53 Machine LoadingReqest TimeOut 18.233 '2022-04-27 19:29:50:977 VCMCT7021H01 None R21A 1.3.961 VTY841AN48AD None GCF21821CCH1985Y1 ERROR 53 Machine LoadingReqest TimeOut 1.626 '2022-04-27 19:35:28:160 VCMCT7021H01 None R21A 1.3.961 VTY841AN48AD None GCF21821CCE1985Y4 ERROR 53 Machine LoadingReqest TimeOut 31.389 '2022-04-27 19:41:45:309 VCMCT7021H01 None R21A 1.3.961 VTY841AN48AD None GCF21821CDE1985Y1 ERROR 53 Machine LoadingReqest TimeOut 184.832 '2022-04-27 20:04:32:765 VCMCT7021H01 None R21A 1.3.961 VTY841AN48AD None GCF21821CE71985Y5 ERROR 45 There are two Tray Empty the position! Remove one Tray 12.851 '2022-04-27 20:36:16:922 VCMCT7021H01 None R21A 1.3.961 VTY841AN48AD None GCF21821CGH1985YP ERROR 101 검사기 MT CALL Error = [TASK_Collimator] SPHERE DELTA(GAIN_H2) Error 90.05 '2022-04-27 20:38:18:046 VCMCT7021H01 None R21A 1.3.961 VTY841AN48AD None GCF21821CGH1985YP ERROR 53 Machine LoadingReqest TimeOut 2.239 '2022-04-27 21:04:49:375 VCMCT7021H01 None R21A 1.3.961 VTY841AN48AD None GCF21821CB41985YH ERROR 69 Picker#2 Module Check Error 15.103 '2022-04-28 22:01:18:287 VCMCT7021H01 None R21A 1.3.961 VTY841AN48AD None None ERROR 299 EMPTY SHUTTLE X(SD04) Motion Not Connect 27.737 '2022-04-30 23:38:37:631 VCMCT7021H01 None R21A 1.3.961 VTY841AN48AD None None ERROR 339 PASS STACKER Z(SD06) Motion Not Connect 31774.663 "
     ]
    }
   ],
   "source": [
    "import openpyxl\n",
    "path = \"C:/Users/LGIT/Desktop/test P\\DB-B\\C3152\\C3152_HM_Error.xlsx\"\n",
    "wb_obj = openpyxl.load_workbook(path)\n",
    "sheet_obj = wb_obj.active\n",
    "row = sheet_obj.max_row\n",
    "column = sheet_obj.max_column\n",
    "\n",
    "print(\"Total Row: \", row)\n",
    "print(\"Total Column: \", column)\n",
    "\n",
    "# print(\"\\n Value of first column\")\n",
    "# for i in range (1, row+1):\n",
    "#     cell_obj = sheet_obj.cell(row=i, column=1)\n",
    "#     print(cell_obj.value)\n",
    "\n",
    "print(\"\\n Value of first row\")\n",
    "for i in range (1, row+1):\n",
    "    for j in range (1, column+1):\n",
    "        cell_obj = sheet_obj.cell(row=i, column=j)\n",
    "        print(cell_obj.value, end=\" \")\n",
    "\n",
    "#  input multiple line \n"
   ]
  },
  {
   "cell_type": "code",
   "execution_count": 9,
   "metadata": {},
   "outputs": [
    {
     "data": {
      "text/plain": [
       "<function TextIOWrapper.close()>"
      ]
     },
     "execution_count": 9,
     "metadata": {},
     "output_type": "execute_result"
    }
   ],
   "source": [
    "import openpyxl\n",
    "import os.path\n",
    "wb = openpyxl.Workbook()\n",
    "path = \"D:/Code/Excel/\"\n",
    "name = os.path.join(path, \"test.xlsx\")\n",
    "file = open(name, \"w\")\n",
    "file.write(name)\n",
    "file.close\n",
    "# wb.save(\"test.xlsx\")\n",
    "\n"
   ]
  },
  {
   "cell_type": "code",
   "execution_count": 6,
   "metadata": {},
   "outputs": [],
   "source": [
    "# create and add data to excel\n",
    "import openpyxl\n",
    "wb = openpyxl.Workbook()\n",
    "sheet = wb.active\n",
    "\n",
    "# c1 = sheet.cell(row = 1, column = 1)\n",
    "# c1.value = \"Hello\"\n",
    "\n",
    "# c2 = sheet['B2']\n",
    "# c2.value = \"abc\"\n",
    "\n",
    "sheet['A3'] = 200\n",
    "sheet['A4'] = 300\n",
    "sheet['A5'] = 900\n",
    "sheet['A6'] = '= SUM(A3:A5)' \n",
    "wb.save(\"sample1.xlsx\")"
   ]
  },
  {
   "cell_type": "code",
   "execution_count": 7,
   "metadata": {},
   "outputs": [],
   "source": [
    "# add \n",
    "import openpyxl\n",
    "wb = openpyxl.load_workbook(\"sample1.xlsx\")\n",
    "sheet = wb.active\n",
    "data = ((1,2,3), (4,5,6)) # tuple (immutable)\n",
    "for row in data: \n",
    "    sheet. append(row)\n",
    "\n",
    "wb.save('sample1.xlsx')\n"
   ]
  },
  {
   "cell_type": "code",
   "execution_count": 12,
   "metadata": {},
   "outputs": [],
   "source": [
    "import openpyxl\n",
    "from openpyxl.styles import Font\n",
    "from openpyxl.chart import BarChart, Reference\n",
    "wb = openpyxl.load_workbook(\"sample1.xlsx\")\n",
    "sheet = wb.active\n",
    "sheet.merge_cells('A7:B7')\n",
    "sheet['A7'].font = Font(size=30, bold=True,name='Times New Roman' )\n",
    "wb.save('sample1.xlsx')"
   ]
  },
  {
   "cell_type": "code",
   "execution_count": 16,
   "metadata": {},
   "outputs": [],
   "source": [
    "import openpyxl\n",
    "from openpyxl.chart import BarChart, Reference\n",
    "wb = openpyxl.load_workbook('sample1.xlsx')\n",
    "sheet = wb.active\n",
    "for i in range(5):\n",
    "    sheet.append([i])\n",
    "values = Reference(sheet, min_col=1, max_col=5, min_row=1, max_row=5)\n",
    "chart = BarChart()\n",
    "chart.add_data(values)\n",
    "chart.title = \"BAR-CHART\"\n",
    "sheet.add_chart(chart, \"G3\")\n",
    "wb.save('sample1.xlsx')"
   ]
  },
  {
   "cell_type": "code",
   "execution_count": 3,
   "metadata": {},
   "outputs": [],
   "source": [
    "from openpyxl import Workbook\n",
    "from openpyxl.chart import Reference, LineChart\n",
    "wb = Workbook()\n",
    "ws = wb.active\n",
    "wb.title = 'chart'\n",
    "\n",
    "rows = [('month', 'Apple sales', 'Banana sales'),\n",
    "('Jan', 100, 200),\n",
    "('Feb', 230, 111),\n",
    "('Mar', 121, 131),\n",
    "('Apr', 10, 22),\n",
    "('May', 232, 222),\n",
    "('Jun', 231, 222),]\n",
    "values = Reference(ws, min_col= 2, min_row=1, max_col = 3, max_row = 7)\n",
    "x_values = Reference(ws, range_string=\"chart!A2:A7\")\n",
    "for row in rows:\n",
    "    ws.append(row)\n",
    "wb.save('create_table.xlsx')"
   ]
  },
  {
   "cell_type": "code",
   "execution_count": null,
   "metadata": {},
   "outputs": [],
   "source": [
    "from openpyxl.chart import Reference, LineChart\n",
    "values = Reference(ws, min)"
   ]
  }
 ],
 "metadata": {
  "kernelspec": {
   "display_name": "Python 3.10.4 64-bit",
   "language": "python",
   "name": "python3"
  },
  "language_info": {
   "codemirror_mode": {
    "name": "ipython",
    "version": 3
   },
   "file_extension": ".py",
   "mimetype": "text/x-python",
   "name": "python",
   "nbconvert_exporter": "python",
   "pygments_lexer": "ipython3",
   "version": "3.10.4"
  },
  "orig_nbformat": 4,
  "vscode": {
   "interpreter": {
    "hash": "97ddc28bdcd24b84b8120ad7968d2264aee9efa803f5ba6fb0da4ee24ee25b90"
   }
  }
 },
 "nbformat": 4,
 "nbformat_minor": 2
}
