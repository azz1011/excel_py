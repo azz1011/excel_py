{
 "cells": [
  {
   "cell_type": "code",
   "execution_count": 2,
   "metadata": {},
   "outputs": [],
   "source": [
    "from openpyxl import Workbook\n",
    "\n",
    "wb = Workbook()\n",
    "ws = wb.active\n",
    "wb.title = 'chart'\n",
    "\n",
    "row = [('month', 'Apple sales', 'Banana sales'),\n",
    "('Jan', 100, 200),\n",
    "('Feb', 230, 111),\n",
    "('Mar', 121, 131),\n",
    "('Apr', 10, 22),\n",
    "('May', 232, 222),\n",
    "('Jun', 231, 222),]\n",
    "\n",
    "for row in rows:\n",
    "    ws.append(row)\n"
   ]
  }
 ],
 "metadata": {
  "kernelspec": {
   "display_name": "Python 3.10.4 64-bit",
   "language": "python",
   "name": "python3"
  },
  "language_info": {
   "codemirror_mode": {
    "name": "ipython",
    "version": 3
   },
   "file_extension": ".py",
   "mimetype": "text/x-python",
   "name": "python",
   "nbconvert_exporter": "python",
   "pygments_lexer": "ipython3",
   "version": "3.10.4"
  },
  "orig_nbformat": 4,
  "vscode": {
   "interpreter": {
    "hash": "97ddc28bdcd24b84b8120ad7968d2264aee9efa803f5ba6fb0da4ee24ee25b90"
   }
  }
 },
 "nbformat": 4,
 "nbformat_minor": 2
}
